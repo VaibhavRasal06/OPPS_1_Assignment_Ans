{
 "cells": [
  {
   "cell_type": "markdown",
   "id": "9b4a8cfb-14f2-4bac-b96e-e2fdc0cc328c",
   "metadata": {},
   "source": [
    "### Q.1"
   ]
  },
  {
   "cell_type": "markdown",
   "id": "95d7cf82-8d4b-4368-a895-3fe1a3aa4753",
   "metadata": {},
   "source": [
    "a class is a blueprint for creating objects. It defines a set of attributes and methods that an object will have. \n",
    "An object, on the other hand, is an instance of a class. \n",
    "It is a runtime entity that has its own set of attributes and can perform the methods defined in its class."
   ]
  },
  {
   "cell_type": "code",
   "execution_count": 1,
   "id": "21476c25-12d4-42d9-862f-99a80447d370",
   "metadata": {},
   "outputs": [],
   "source": [
    "class Dog:\n",
    "    def __init__(self, name,breed):\n",
    "        \n",
    "        self.name = name\n",
    "        self.breed = breed\n",
    "        \n",
    "    def return_name(self):\n",
    "        return self.name, self.breed"
   ]
  },
  {
   "cell_type": "code",
   "execution_count": 2,
   "id": "9a59f391-ad24-4692-a439-88abe9f9f2db",
   "metadata": {},
   "outputs": [],
   "source": [
    "my_dog = Dog(\"Fido\", \"Labrador\")"
   ]
  },
  {
   "cell_type": "code",
   "execution_count": 3,
   "id": "0ff0a4f0-f094-4267-a3a3-e7b6d21ffb12",
   "metadata": {},
   "outputs": [
    {
     "data": {
      "text/plain": [
       "'Fido'"
      ]
     },
     "execution_count": 3,
     "metadata": {},
     "output_type": "execute_result"
    }
   ],
   "source": [
    "my_dog.name"
   ]
  },
  {
   "cell_type": "code",
   "execution_count": 4,
   "id": "f8e9ba13-72d1-4f78-ac94-dc259b7b81f2",
   "metadata": {},
   "outputs": [
    {
     "data": {
      "text/plain": [
       "'Labrador'"
      ]
     },
     "execution_count": 4,
     "metadata": {},
     "output_type": "execute_result"
    }
   ],
   "source": [
    "my_dog.breed"
   ]
  },
  {
   "cell_type": "markdown",
   "id": "9463eab3-4933-482b-ade4-6bda688ea7c7",
   "metadata": {},
   "source": [
    "### Q.2"
   ]
  },
  {
   "cell_type": "markdown",
   "id": "d5688ddd-e1d7-4a73-8c06-eab5a50592ce",
   "metadata": {},
   "source": [
    "1.Encapsulation\n",
    "2.Inheritance\n",
    "3.Polymorphism\n",
    "4.Abstraction"
   ]
  },
  {
   "cell_type": "markdown",
   "id": "d1189437-1024-420a-b395-7aaf37b7a181",
   "metadata": {},
   "source": [
    "### Q.3"
   ]
  },
  {
   "cell_type": "markdown",
   "id": "6c0097e5-9a21-44d7-b69d-4df2b0c60ead",
   "metadata": {},
   "source": [
    "__init__() is a special method that is called when an object of a class is created. \n",
    "It is used to initialize the attributes of the object with the values provided at the time of creation."
   ]
  },
  {
   "cell_type": "code",
   "execution_count": 9,
   "id": "c38d277f-7bab-45bc-b4d1-e12774eebff6",
   "metadata": {},
   "outputs": [
    {
     "data": {
      "text/plain": [
       "2020"
      ]
     },
     "execution_count": 9,
     "metadata": {},
     "output_type": "execute_result"
    }
   ],
   "source": [
    "class car:\n",
    "    def __init__(self, make, model, year, color):\n",
    "        \n",
    "        self.make = make\n",
    "        self.model = model\n",
    "        self.year = year\n",
    "        self.color = color\n",
    "        \n",
    "    def return_name(self):\n",
    "        return self.make, self.model, self.year, self.color\n",
    "    \n",
    "my_car = car(\"Toyota\", \"Corolla\", 2020, \"blue\")\n",
    "my_car.model\n",
    "my_car.year"
   ]
  },
  {
   "cell_type": "markdown",
   "id": "e799d0f2-bc7c-4306-97eb-5e5239f8bf8a",
   "metadata": {},
   "source": [
    "### Q.4"
   ]
  },
  {
   "cell_type": "markdown",
   "id": "0b51a6dc-faea-4518-821f-4e5b59e5b80c",
   "metadata": {},
   "source": [
    "self is a reference to the current instance of a class. \n",
    "It is a way for the object to refer to itself within the class methods and access its own attributes and methods.\n",
    "\n",
    "When a method of a class is called on an object, the object is passed as the first argument to the method implicitly. \n",
    "This first argument is usually named self by convention, although it can be any valid variable name."
   ]
  },
  {
   "cell_type": "markdown",
   "id": "b7c75b77-7d63-4de7-9fbc-50a1e71cbabe",
   "metadata": {},
   "source": [
    "### Q.5"
   ]
  },
  {
   "cell_type": "markdown",
   "id": "d34b1563-2e4d-4f5c-8833-62461cb2f48a",
   "metadata": {},
   "source": [
    "Inheritance is a fundamental concept in object-oriented programming (OOP) that allows a new class to be based on an existing class, \n",
    "inheriting its attributes and methods. The new class can then modify or extend the behavior of the existing class, \n",
    "without having to rewrite its code. \n",
    "This facilitates code reuse, and makes it easier to organize and maintain large projects."
   ]
  },
  {
   "cell_type": "markdown",
   "id": "56efab1f-2100-4d5c-a6d3-79a60dab2bcd",
   "metadata": {},
   "source": [
    "1.Single Inheritance"
   ]
  },
  {
   "cell_type": "code",
   "execution_count": 10,
   "id": "19949d91-c779-4f8c-b0e8-e8f8bcc620b7",
   "metadata": {},
   "outputs": [
    {
     "name": "stdout",
     "output_type": "stream",
     "text": [
      "I can eat.\n",
      "I can bark.\n"
     ]
    }
   ],
   "source": [
    "class Animal:\n",
    "    def eat(self):\n",
    "        print(\"I can eat.\")\n",
    "\n",
    "class Dog(Animal):\n",
    "    def bark(self):\n",
    "        print(\"I can bark.\")\n",
    "\n",
    "my_dog = Dog()\n",
    "my_dog.eat()  # Output: \"I can eat.\"\n",
    "my_dog.bark()  # Output: \"I can bark.\"\n"
   ]
  },
  {
   "cell_type": "markdown",
   "id": "fa0ce04b-b893-4017-80ba-77a5dfe30bd0",
   "metadata": {},
   "source": [
    "2.Multiple Inheritance"
   ]
  },
  {
   "cell_type": "code",
   "execution_count": 11,
   "id": "68daee33-e356-41c2-8547-ca30a7c1a26d",
   "metadata": {},
   "outputs": [
    {
     "name": "stdout",
     "output_type": "stream",
     "text": [
      "I am from class A.\n"
     ]
    }
   ],
   "source": [
    "class A:\n",
    "    def method(self):\n",
    "        print(\"I am from class A.\")\n",
    "\n",
    "class B:\n",
    "    def method(self):\n",
    "        print(\"I am from class B.\")\n",
    "\n",
    "class C(A, B):\n",
    "    pass\n",
    "\n",
    "my_c = C()\n",
    "my_c.method()  # Output: \"I am from class A.\"\n"
   ]
  },
  {
   "cell_type": "markdown",
   "id": "a42fd336-a028-4731-843a-6d92aa7623d0",
   "metadata": {},
   "source": [
    "3.Hierarchical Inheritance"
   ]
  },
  {
   "cell_type": "code",
   "execution_count": 12,
   "id": "61a0cea3-cb4f-4db1-982a-7beedcde891e",
   "metadata": {},
   "outputs": [
    {
     "name": "stdout",
     "output_type": "stream",
     "text": [
      "I can drive.\n",
      "I can honk.\n",
      "I can drive.\n",
      "I can do a wheelie.\n"
     ]
    }
   ],
   "source": [
    "class Vehicle:\n",
    "    def drive(self):\n",
    "        print(\"I can drive.\")\n",
    "\n",
    "class Car(Vehicle):\n",
    "    def honk(self):\n",
    "        print(\"I can honk.\")\n",
    "\n",
    "class Motorcycle(Vehicle):\n",
    "    def wheelie(self):\n",
    "        print(\"I can do a wheelie.\")\n",
    "\n",
    "my_car = Car()\n",
    "my_car.drive()  # Output: \"I can drive.\"\n",
    "my_car.honk()  # Output: \"I can honk.\"\n",
    "\n",
    "my_motorcycle = Motorcycle()\n",
    "my_motorcycle.drive()  # Output: \"I can drive.\"\n",
    "my_motorcycle.wheelie()  # Output: \"I can do a wheelie.\"\n"
   ]
  },
  {
   "cell_type": "markdown",
   "id": "28be4379-85be-4ec6-99b5-0635e234a547",
   "metadata": {},
   "source": [
    "4.Multi-level Inheritance"
   ]
  },
  {
   "cell_type": "code",
   "execution_count": 13,
   "id": "3ad6aae8-57fa-4dcf-a29a-54eff88ecb9a",
   "metadata": {},
   "outputs": [
    {
     "name": "stdout",
     "output_type": "stream",
     "text": [
      "I can eat.\n",
      "I can breathe.\n",
      "I can bark.\n"
     ]
    }
   ],
   "source": [
    "class Animal:\n",
    "    def eat(self):\n",
    "        print(\"I can eat.\")\n",
    "\n",
    "class Mammal(Animal):\n",
    "    def breathe(self):\n",
    "        print(\"I can breathe.\")\n",
    "\n",
    "class Dog(Mammal):\n",
    "    def bark(self):\n",
    "        print(\"I can bark.\")\n",
    "\n",
    "my_dog = Dog()\n",
    "my_dog.eat()  # Output: \"I can eat.\"\n",
    "my_dog.breathe()  # Output: \"I can breathe.\"\n",
    "my_dog.bark()  # Output: \"I can bark.\"\n"
   ]
  },
  {
   "cell_type": "code",
   "execution_count": null,
   "id": "741d02de-8a18-449c-b359-889241da7b24",
   "metadata": {},
   "outputs": [],
   "source": []
  }
 ],
 "metadata": {
  "kernelspec": {
   "display_name": "Python 3 (ipykernel)",
   "language": "python",
   "name": "python3"
  },
  "language_info": {
   "codemirror_mode": {
    "name": "ipython",
    "version": 3
   },
   "file_extension": ".py",
   "mimetype": "text/x-python",
   "name": "python",
   "nbconvert_exporter": "python",
   "pygments_lexer": "ipython3",
   "version": "3.10.8"
  }
 },
 "nbformat": 4,
 "nbformat_minor": 5
}
